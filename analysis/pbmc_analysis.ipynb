{
 "cells": [
  {
   "cell_type": "markdown",
   "metadata": {},
   "source": [
    "# PBMC 3K Dataset Analysis\n",
    "\n",
    "This notebook demonstrates a complete scRNA-seq analysis using Scanpy (Python) on the PBMC 3K dataset from 10x Genomics."
   ]
  },
  {
   "cell_type": "code",
   "execution_count": null,
   "metadata": {},
   "source": [
    "# Import necessary libraries\n",
    "import scanpy as sc\n",
    "import numpy as np\n",
    "import pandas as pd\n",
    "import matplotlib.pyplot as plt\n",
    "sc.settings.verbosity = 3\n",
    "sc.settings.set_figure_params(dpi=80)"
   ]
  },
  {
   "cell_type": "markdown",
   "metadata": {},
   "source": [
    "## Data Loading\n",
    "\n",
    "First, download the PBMC 3K dataset from 10x Genomics if you haven't already:\n",
    "```\n",
    "# In terminal (optional):\n",
    "# mkdir -p ../data\n",
    "# wget https://cf.10xgenomics.com/samples/cell/pbmc3k/pbmc3k_filtered_gene_bc_matrices.tar.gz -O ../data/pbmc3k_filtered_gene_bc_matrices.tar.gz\n",
    "# tar -xzf ../data/pbmc3k_filtered_gene_bc_matrices.tar.gz -C ../data/\n",
    "```"
   ]
  },
  {
   "cell_type": "code",
   "execution_count": null,
   "metadata": {},
   "source": [
    "# Load the data\n",
    "# If using 10x HDF5 format\n",
    "# adata = sc.read_10x_h5('../data/pbmc_3k_filtered_feature_bc_matrix.h5')\n",
    "\n",
    "# If using 10x MTX format\n",
    "adata = sc.read_10x_mtx(\n",
    "    '../data/filtered_gene_bc_matrices/hg19/',  # Adjust path as necessary\n",
    "    var_names='gene_symbols',\n",
    "    cache=True\n",
    ")\n",
    "\n",
    "# Basic information\n",
    "print(f\"Shape: {adata.shape}\")\n",
    "adata"
   ]
  },
  {
   "cell_type": "markdown",
   "metadata": {},
   "source": [
    "## Quality Control"
   ]
  },
  {
   "cell_type": "code",
   "execution_count": null,
   "metadata": {},
   "source": [
    "# Calculate QC metrics\n",
    "adata.var['mt'] = adata.var_names.str.startswith('MT-')\n",
    "sc.pp.calculate_qc_metrics(\n",
    "    adata, qc_vars=['mt'], percent_top=None, log1p=False, inplace=True\n",
    ")\n",
    "\n",
    "# Plot QC metrics\n",
    "fig, axs = plt.subplots(1, 3, figsize=(15, 4))\n",
    "sc.pl.violin(adata, 'n_genes_by_counts', jitter=0.4, ax=axs[0])\n",
    "sc.pl.violin(adata, 'total_counts', jitter=0.4, ax=axs[1])\n",
    "sc.pl.violin(adata, 'pct_counts_mt', jitter=0.4, ax=axs[2])\n",
    "plt.tight_layout()"
   ]
  },
  {
   "cell_type": "code",
   "execution_count": null,
   "metadata": {},
   "source": [
    "# Filter cells\n",
    "sc.pp.filter_cells(adata, min_genes=200)\n",
    "sc.pp.filter_cells(adata, max_genes=2500)  # Remove potential doublets\n",
    "adata = adata[adata.obs.pct_counts_mt < 5, :]\n",
    "\n",
    "# Filter genes\n",
    "sc.pp.filter_genes(adata, min_cells=3)\n",
    "\n",
    "print(f\"After filtering: {adata.shape}\")"
   ]
  },
  {
   "cell_type": "markdown",
   "metadata": {},
   "source": [
    "## Normalization and Scaling"
   ]
  },
  {
   "cell_type": "code",
   "execution_count": null,
   "metadata": {},
   "source": [
    "# Normalize to depth of 10,000 reads per cell\n",
    "sc.pp.normalize_total(adata, target_sum=1e4)\n",
    "\n",
    "# Log-transform\n",
    "sc.pp.log1p(adata)\n",
    "\n",
    "# Find highly variable genes\n",
    "sc.pp.highly_variable_genes(adata, min_mean=0.0125, max_mean=3, min_disp=0.5)\n",
    "print(f\"Number of highly variable genes: {sum(adata.var.highly_variable)}\")\n",
    "\n",
    "# Plot variable genes\n",
    "sc.pl.highly_variable_genes(adata)"
   ]
  },
  {
   "cell_type": "code",
   "execution_count": null,
   "metadata": {},
   "source": [
    "# Use only highly variable genes for downstream analysis\n",
    "adata = adata[:, adata.var.highly_variable]\n",
    "\n",
    "# Scale data\n",
    "sc.pp.scale(adata, max_value=10)"
   ]
  },
  {
   "cell_type": "markdown",
   "metadata": {},
   "source": [
    "## Dimensionality Reduction and Clustering"
   ]
  },
  {
   "cell_type": "code",
   "execution_count": null,
   "metadata": {},
   "source": [
    "# Run PCA\n",
    "sc.tl.pca(adata, svd_solver='arpack')\n",
    "\n",
    "# Plot PCA\n",
    "sc.pl.pca(adata, color='n_genes_by_counts')\n",
    "sc.pl.pca_variance_ratio(adata, n_pcs=50)"
   ]
  },
  {
   "cell_type": "code",
   "execution_count": null,
   "metadata": {},
   "source": [
    "# Compute the neighborhood graph\n",
    "sc.pp.neighbors(adata, n_neighbors=10, n_pcs=30)\n",
    "\n",
    "# UMAP embedding\n",
    "sc.tl.umap(adata)\n",
    "\n",
    "# Find clusters using Leiden algorithm\n",
    "sc.tl.leiden(adata, resolution=0.5)\n",
    "\n",
    "# Plot UMAP\n",
    "sc.pl.umap(adata, color=['leiden', 'n_genes_by_counts', 'pct_counts_mt'])"
   ]
  },
  {
   "cell_type": "markdown",
   "metadata": {},
   "source": [
    "## Identify Marker Genes and Annotate Clusters"
   ]
  },
  {
   "cell_type": "code",
   "execution_count": null,
   "metadata": {},
   "source": [
    "# Find marker genes for each cluster\n",
    "sc.tl.rank_genes_groups(adata, 'leiden', method='t-test')\n",
    "sc.pl.rank_genes_groups(adata, n_genes=25, sharey=False)"
   ]
  },
  {
   "cell_type": "code",
   "execution_count": null,
   "metadata": {},
   "source": [
    "# View marker genes for specific clusters\n",
    "pd.DataFrame(adata.uns['rank_genes_groups']['names']).head(10)"
   ]
  },
  {
   "cell_type": "code",
   "execution_count": null,
   "metadata": {},
   "source": [
    "# Define a list of known marker genes for PBMC cell types\n",
    "marker_genes = {\n",
    "    'T-cell': ['CD3D', 'CD3E', 'IL7R'],\n",
    "    'CD4 T-cell': ['CD3D', 'IL7R', 'CD4'],\n",
    "    'CD8 T-cell': ['CD3D', 'CD8A', 'CD8B'],\n",
    "    'B-cell': ['MS4A1', 'CD79A', 'CD79B'],\n",
    "    'NK cell': ['GNLY', 'NKG7', 'KLRD1'],\n",
    "    'Monocyte': ['LYZ', 'CST3', 'CD14', 'FCGR3A'],\n",
    "    'Conventional DC': ['FCER1A', 'CST3'],\n",
    "    'Plasmacytoid DC': ['LILRA4', 'CLEC4C', 'IL3RA'],\n",
    "    'Platelet': ['PPBP']\n",
    "}\n",
    "\n",
    "# Plot expression of markers to help with annotation\n",
    "sc.pl.umap(adata, color=['leiden'], legend_loc='on data')\n",
    "\n",
    "# Plot some selected markers\n",
    "sc.pl.umap(adata, color=['CD3D', 'CD3E', 'MS4A1', 'CD79A', 'LYZ', 'GNLY'])"
   ]
  },
  {
   "cell_type": "code",
   "execution_count": null,
   "metadata": {},
   "source": [
    "# Based on marker gene expression, annotate clusters\n",
    "# This is a manual process guided by domain knowledge\n",
    "cell_type_map = {\n",
    "    '0': 'CD4 T-cell',\n",
    "    '1': 'CD14+ Monocyte',\n",
    "    '2': 'B-cell',\n",
    "    '3': 'CD8 T-cell',\n",
    "    '4': 'NK cell',\n",
    "    '5': 'FCGR3A+ Monocyte',\n",
    "    '6': 'Dendritic cell',\n",
    "    '7': 'Platelet'\n",
    "    # Add more as needed\n",
    "}\n",
    "\n",
    "# Add cell type annotations to the object\n",
    "adata.obs['cell_type'] = adata.obs['leiden'].map(cell_type_map).astype('category')\n",
    "\n",
    "# Plot with cell type annotations\n",
    "sc.pl.umap(adata, color='cell_type', legend_loc='on data')"
   ]
  },
  {
   "cell_type": "markdown",
   "metadata": {},
   "source": [
    "## Save Results"
   ]
  },
  {
   "cell_type": "code",
   "execution_count": null,
   "metadata": {},
   "source": [
    "# Save to file\n",
    "adata.write('../data/pbmc3k_processed.h5ad')\n",
    "\n",
    "# Export key results to CSV for sharing\n",
    "adata.obs[['cell_type', 'leiden', 'n_genes_by_counts', 'pct_counts_mt']].to_csv('../data/pbmc3k_metadata.csv')"
   ]
  }
 ],
 "metadata": {
  "kernelspec": {
   "display_name": "Python 3",
   "language": "python",
   "name": "python3"
  },
  "language_info": {
   "codemirror_mode": {
    "name": "ipython",
    "version": 3
   },
   "file_extension": ".py",
   "mimetype": "text/x-python",
   "name": "python",
   "nbconvert_exporter": "python",
   "pygments_lexer": "ipython3",
   "version": "3.8.10"
  }
 },
 "nbformat": 4,
 "nbformat_minor": 4
}